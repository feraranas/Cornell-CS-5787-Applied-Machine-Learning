{
  "nbformat": 4,
  "nbformat_minor": 0,
  "metadata": {
    "colab": {
      "provenance": [],
      "authorship_tag": "ABX9TyNAvrH2eWviJkCBmN4MTi7a",
      "include_colab_link": true
    },
    "kernelspec": {
      "name": "python3",
      "display_name": "Python 3"
    },
    "language_info": {
      "name": "python"
    }
  },
  "cells": [
    {
      "cell_type": "markdown",
      "metadata": {
        "id": "view-in-github",
        "colab_type": "text"
      },
      "source": [
        "<a href=\"https://colab.research.google.com/github/feraranas/Cornell-CS-5787-Applied-Machine-Learning/blob/main/AppliedML_Lecture2.ipynb\" target=\"_parent\"><img src=\"https://colab.research.google.com/assets/colab-badge.svg\" alt=\"Open In Colab\"/></a>"
      ]
    },
    {
      "cell_type": "markdown",
      "source": [
        "**SUPERVISED LEARNING**"
      ],
      "metadata": {
        "id": "uG56B6n1PY9H"
      }
    },
    {
      "cell_type": "code",
      "execution_count": null,
      "metadata": {
        "id": "FCXZd79VPT-G"
      },
      "outputs": [],
      "source": [
        "import numpy as np\n",
        "import pandas as pd\n",
        "from sklearn.datasets import load_diabetes\n",
        "\n",
        "# Load the diabetes dataset\n",
        "data = load_diabetes()\n",
        "\n",
        "# Understanding the dataset through DataFrame\n",
        "df = pd.DataFrame(data.data, columns = data.feature_names)\n",
        "# display(df)\n",
        "\n",
        "# Loading \n",
        "diabetes_X, diabetes_y = load_diabetes(return_X_y = True, as_frame = True)\n",
        "\n",
        "# Use only the BMI feature(column)\n",
        "diabetes_X = diabetes_X.loc[:, ['bmi']]\n",
        "\n",
        "# The BMI is zero-centered and normalized; we recenter it for ease of presentation\n",
        "diabetes_X = diabetes_X * 30 + 25\n",
        "\n",
        "# Collect 20 data points\n",
        "diabetes_X_train = diabetes_X.iloc[-20:]\n",
        "diabetes_y_train = diabetes_y.iloc[-20:]\n",
        "\n",
        "# Display some of the data points\n",
        "pd.concat([diabetes_X_train, diabetes_y_train], axis = 1).head()\n"
      ]
    },
    {
      "cell_type": "code",
      "source": [
        "# Visualizing this two - dimensional dataset\n",
        "%matplotlib inline\n",
        "import matplotlib.pyplot as plt\n",
        "plt.rcParams['figure.figsize'] = [12, 4]\n",
        "\n",
        "plt.scatter(diabetes_X_train, diabetes_y_train, color = 'black')\n",
        "plt.xlabel('Body Mass Index (BMI)')\n",
        "plt.ylabel('Diabetes Risk')"
      ],
      "metadata": {
        "id": "H2tuzBz7UJYU"
      },
      "execution_count": null,
      "outputs": []
    },
    {
      "cell_type": "code",
      "source": [
        "# Example of a Linear function between two vars\n",
        "theta_list = [(1, 2), (2, 1)]\n",
        "for theta0, theta1 in theta_list:\n",
        "  x = np.arange(10)\n",
        "  y = theta1 * x + theta0\n",
        "  plt.plot(x,y)"
      ],
      "metadata": {
        "id": "FtInp9zJVPX-"
      },
      "execution_count": null,
      "outputs": []
    },
    {
      "cell_type": "code",
      "source": [
        "# The goal is to find a good set of parameters\n",
        "# consistent with the data provided.\n",
        "# For this we use Linear Regression.\n",
        "from sklearn import linear_model\n",
        "from sklearn.metrics import mean_squared_error\n",
        "\n",
        "# Create a linear regression object\n",
        "regr = linear_model.LinearRegression()\n",
        "\n",
        "# Train the model using the training sets\n",
        "regr.fit(diabetes_X_train, diabetes_y_train.values)\n",
        "\n",
        "# Make predictions on the training set\n",
        "diabetes_y_train_pred = regr.predict(diabetes_X_train)\n",
        "\n",
        "# The coefficients\n",
        "print('Slope (theta1): ', regr.coef_[0])\n",
        "print('Intercept (theta1): ', regr.intercept_)\n"
      ],
      "metadata": {
        "id": "0kt1MHbVWubZ"
      },
      "execution_count": null,
      "outputs": []
    },
    {
      "cell_type": "code",
      "source": [
        "plt.xlabel('Body Mass Index (BMI)')\n",
        "plt.ylabel('Diabetes Risk')\n",
        "plt.scatter(diabetes_X_train, diabetes_y_train, color = 'black')\n",
        "plt.plot(diabetes_X_train, diabetes_y_train_pred, color = 'black', linewidth = 2)\n"
      ],
      "metadata": {
        "id": "7DnvfheFYeLu"
      },
      "execution_count": null,
      "outputs": []
    },
    {
      "cell_type": "code",
      "source": [
        "# Loading three new patients to be predicted\n",
        "# Collect 3 data points\n",
        "diabetes_X_test = diabetes_X.iloc[:3]\n",
        "diabetes_y_test = diabetes_y.iloc[:3]\n",
        "\n",
        "plt.scatter(diabetes_X_train, diabetes_y_train)\n",
        "plt.scatter(diabetes_X_test, diabetes_y_test, color = 'red')\n",
        "plt.xlabel('Body Mass Index (BMI)')\n",
        "plt.ylabel('Diabetes Risk')\n",
        "plt.legend(['Initial patients', 'New patients'])"
      ],
      "metadata": {
        "id": "iQ3QV7gfZKBz"
      },
      "execution_count": null,
      "outputs": []
    },
    {
      "cell_type": "code",
      "source": [
        "# Generate predictions on the new patients\n",
        "diabetes_y_test_pred = regr.predict(diabetes_X_test)\n",
        "\n",
        "# Visualize the results\n",
        "plt.xlabel('Body Mass Index (BMI)')\n",
        "plt.ylabel('Diabetes Risk')\n",
        "plt.scatter(diabetes_X_train, diabetes_y_train)\n",
        "plt.scatter(diabetes_X_test, diabetes_y_test, color = 'red', marker = 'o')\n",
        "plt.plot(diabetes_X_train, diabetes_y_train_pred, color = 'black', linewidth = 1)\n",
        "plt.plot(diabetes_X_test, diabetes_y_test_pred, 'x', color = 'red', mew = 3, markersize = 10)\n",
        "plt.legend(['Model', 'Prediction', 'Initial patients', 'New patients'])"
      ],
      "metadata": {
        "colab": {
          "base_uri": "https://localhost:8080/",
          "height": 296
        },
        "id": "VonYE3Z5ZwT2",
        "outputId": "39710eed-51c5-4d92-f3e9-e64c1e3d2594"
      },
      "execution_count": 18,
      "outputs": [
        {
          "output_type": "execute_result",
          "data": {
            "text/plain": [
              "<matplotlib.legend.Legend at 0x7f1e897ce580>"
            ]
          },
          "metadata": {},
          "execution_count": 18
        },
        {
          "output_type": "display_data",
          "data": {
            "text/plain": [
              "<Figure size 864x288 with 1 Axes>"
            ],
            "image/png": "[encoded data removed]"
          },
          "metadata": {
            "needs_background": "light"
          }
        }
      ]
    }
  ]
}